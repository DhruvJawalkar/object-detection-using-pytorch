{
 "cells": [
  {
   "cell_type": "code",
   "execution_count": 3,
   "metadata": {},
   "outputs": [
    {
     "data": {
      "text/plain": [
       "\"\\ngen = Path(DATA_DIR).glob('*.json')\\nlist(gen)\\n\\nfrom os import listdir\\nlistdir('data/pascal')\\n\\nfrom os import walk\\n\\nfor dir, sub_dir, fnames in walk(DATA_DIR):\\n    print(dir)\\n    print(sub_dir)\\n    print(fnames)\\n    break\\n\\nwith open('data/pascal/pascal_train2007.json') as f:\\n    data = json.load(f)\\nprint(data)\\n\\n# to test of any object in data annotations has more than 1 bbox\\n#next((x for x in DATA_ANNOTATIONS if len(x['bbox'])!=4), None)\\n    \\n\""
      ]
     },
     "execution_count": 3,
     "metadata": {},
     "output_type": "execute_result"
    }
   ],
   "source": [
    "\"\"\"\n",
    "gen = Path(DATA_DIR).glob('*.json')\n",
    "list(gen)\n",
    "\n",
    "from os import listdir\n",
    "listdir('data/pascal')\n",
    "\n",
    "from os import walk\n",
    "\n",
    "for dir, sub_dir, fnames in walk(DATA_DIR):\n",
    "    print(dir)\n",
    "    print(sub_dir)\n",
    "    print(fnames)\n",
    "    break\n",
    "\n",
    "with open('data/pascal/pascal_train2007.json') as f:\n",
    "    data = json.load(f)\n",
    "print(data)\n",
    "\n",
    "# to test of any object in data annotations has more than 1 bbox\n",
    "#next((x for x in DATA_ANNOTATIONS if len(x['bbox'])!=4), None)\n",
    "    \n",
    "\"\"\"    "
   ]
  },
  {
   "cell_type": "code",
   "execution_count": 2,
   "metadata": {},
   "outputs": [],
   "source": [
    "from pathlib import Path\n",
    "import json\n",
    "\n",
    "%matplotlib inline\n",
    "import matplotlib.pyplot as plt\n",
    "import matplotlib.patches as patches\n",
    "from PIL import Image\n",
    "import numpy as np\n",
    "\n",
    "import pandas as pd\n",
    "\n",
    "import torch\n",
    "import torchvision\n",
    "import torchvision.transforms as transforms\n",
    "import torch.nn as nn\n",
    "import torch.nn.functional as F\n",
    "from torchvision.models import resnet34\n",
    "from torch.utils.data.sampler import SubsetRandomSampler\n",
    "device = torch.device('cuda:0' if torch.cuda.is_available() else 'cpu')\n",
    "\n",
    "import sys\n",
    "sys.path.append('./PyTorch examples/yunjey/tutorials/04-utils/tensorboard')\n",
    "from logger import Logger"
   ]
  },
  {
   "cell_type": "code",
   "execution_count": null,
   "metadata": {},
   "outputs": [],
   "source": [
    "from IPython.display import FileLink\n",
    "FileLink('data/pascal/my-models/largest_item_classifier-89.29_train_acc.ckpt')"
   ]
  },
  {
   "cell_type": "code",
   "execution_count": null,
   "metadata": {},
   "outputs": [],
   "source": [
    "FileLink('./logs/largest_item_classfier/')"
   ]
  },
  {
   "cell_type": "markdown",
   "metadata": {},
   "source": [
    "# Combined model, classifier + bbox"
   ]
  },
  {
   "cell_type": "code",
   "execution_count": 104,
   "metadata": {},
   "outputs": [],
   "source": [
    "train_idxs, val_idxs = get_trn_val_idxs(len(largest_item_bbox_csv))"
   ]
  },
  {
   "cell_type": "code",
   "execution_count": 105,
   "metadata": {},
   "outputs": [],
   "source": [
    "bs = 64\n",
    "sz = 224\n",
    "n_epochs = 5\n",
    "lr = 0.001\n",
    "\n",
    "classifier_train_tfms = transforms.Compose([\n",
    "    transforms.Resize((sz, sz)),\n",
    "    transforms.ToTensor()\n",
    "])\n",
    "\n",
    "classifier_val_tfms = transforms.Compose([\n",
    "    transforms.Resize((sz, sz)),\n",
    "    transforms.ToTensor()\n",
    "])\n",
    "\n",
    "bbox_train_tfms = transforms.Compose([\n",
    "    ResizeImgAndBbox((sz, sz)),\n",
    "    RandomFlipImgAndBbox(),\n",
    "    #RandomRotateImgAndBbox(5), \n",
    "    ColorJitter(),\n",
    "    ToTensor()\n",
    "])\n",
    "\n",
    "bbox_val_tfms = transforms.Compose([\n",
    "    ResizeImgAndBbox((sz, sz)),\n",
    "    ToTensor()\n",
    "])"
   ]
  },
  {
   "cell_type": "code",
   "execution_count": 145,
   "metadata": {},
   "outputs": [],
   "source": [
    "concat_train_ds = ConcatDS(PascalBboxDataset(CSVS_DIR/'largest_item_bbox.csv', JPEG_DIR, bbox_train_tfms), \n",
    "                           PascalDataset(CSVS_DIR/'largest_item_classifier.csv', JPEG_DIR, classifier_train_tfms))\n",
    "\n",
    "concat_train_dl = torch.utils.data.DataLoader(concat_train_ds, \n",
    "                                              bs, \n",
    "                                              sampler=SubsetRandomSampler(train_idxs))\n",
    "\n",
    "\n",
    "concat_val_ds = ConcatDS(PascalBboxDataset(CSVS_DIR/'largest_item_bbox.csv', JPEG_DIR, bbox_val_tfms), \n",
    "                           PascalDataset(CSVS_DIR/'largest_item_classifier.csv', JPEG_DIR, classifier_val_tfms))\n",
    "\n",
    "concat_val_dl = torch.utils.data.DataLoader(concat_val_ds, \n",
    "                                            bs, \n",
    "                                            sampler=SubsetRandomSampler(val_idxs))"
   ]
  },
  {
   "cell_type": "code",
   "execution_count": 107,
   "metadata": {},
   "outputs": [],
   "source": [
    "custom_head = nn.Sequential(\n",
    "        Flatten(),\n",
    "        nn.ReLU(),\n",
    "        nn.Dropout(0.5),\n",
    "        nn.Linear(512*7*7, 256),\n",
    "        nn.ReLU(),\n",
    "        nn.BatchNorm1d(256),\n",
    "        nn.Dropout(0.5),\n",
    "        nn.Linear(256, 4+20)\n",
    "    )\n",
    "\n",
    "model = model_utils.get_resnet34_model_with_custom_head(custom_head)"
   ]
  },
  {
   "cell_type": "code",
   "execution_count": null,
   "metadata": {},
   "outputs": [],
   "source": [
    "model.train()\n",
    "n_epochs = 5\n",
    "lr = 0.001\n",
    "\n",
    "logger = Logger('./logs/combined/run_1')\n",
    "optimizer = torch.optim.Adam(model.parameters(), lr = lr)\n",
    "\n",
    "step = 0\n",
    "for e in range(n_epochs):\n",
    "    for batch, labels in concat_train_dl:\n",
    "        optimizer.zero_grad()\n",
    "        \n",
    "        batch = batch.to(device)\n",
    "        labels = labels.to(device)\n",
    "        \n",
    "        preds = model(batch)\n",
    "        loss = combined_loss(preds, labels, sz)\n",
    "        \n",
    "        loss.backward()\n",
    "        optimizer.step()\n",
    "        \n",
    "        # ================================================================== #\n",
    "        #                        Tensorboard Logging                         #\n",
    "        # ================================================================== #\n",
    "        step +=1\n",
    "        info = {\n",
    "            'Detection overall loss': loss.item(), \n",
    "            'Detection l1 loss': get_detection_l1_loss(preds[:,:4], labels[0], sz), \n",
    "            'Detection cross entropy loss': get_detection_cross_entropy_loss(preds[:,4:], labels[1]),\n",
    "            'Detection accuracy' : get_detection_accuracy(preds[:,4:], labels[1])\n",
    "        }\n",
    "        \n",
    "        for tag, value in info.items():\n",
    "            logger.scalar_summary(tag, value, step+1)\n",
    "        \n",
    "        #print loss per 100 steps \n",
    "        if (step+1) % 10 == 0:\n",
    "            print ('Epoch [{}/{}], Iteration [{}/{}], overall Loss: {:.4f}' \n",
    "                   .format(e+1, n_epochs, (step+1)%len(concat_train_dl), len(concat_train_dl), loss.item()))\n",
    "\n",
    "trn_acc, trn_loss = get_concat_model_summary_on_sample_set(model, concat_train_dl, sz)        \n",
    "val_acc, val_loss = get_concat_model_summary_on_sample_set(model, concat_val_dl, sz)\n",
    "print('Model accuracy, loss on training set:{}%, {}, validation set:{}%, {}'.format(trn_acc, trn_loss, val_acc, val_loss))                      "
   ]
  },
  {
   "cell_type": "code",
   "execution_count": null,
   "metadata": {},
   "outputs": [],
   "source": [
    "torch.save(model.state_dict(), 'data/pascal/my-models/combined_model_val_77.5.ckpt')"
   ]
  },
  {
   "cell_type": "code",
   "execution_count": null,
   "metadata": {},
   "outputs": [],
   "source": [
    "trn_acc, trn_loss = get_concat_model_summary_on_sample_set(model, concat_train_dl, sz)        \n",
    "val_acc, val_loss = get_concat_model_summary_on_sample_set(model, concat_val_dl, sz)\n",
    "print('Model accuracy, loss on training set:{}%, {}, validation set:{}%, {}'.format(trn_acc, trn_loss, val_acc, val_loss))                      "
   ]
  },
  {
   "cell_type": "code",
   "execution_count": 1,
   "metadata": {},
   "outputs": [
    {
     "ename": "NameError",
     "evalue": "name 'model' is not defined",
     "output_type": "error",
     "traceback": [
      "\u001b[0;31m---------------------------------------------------------------------------\u001b[0m",
      "\u001b[0;31mNameError\u001b[0m                                 Traceback (most recent call last)",
      "\u001b[0;32m<ipython-input-1-9d6a6aaef645>\u001b[0m in \u001b[0;36m<module>\u001b[0;34m()\u001b[0m\n\u001b[0;32m----> 1\u001b[0;31m \u001b[0mmodel\u001b[0m\u001b[0;34m.\u001b[0m\u001b[0meval\u001b[0m\u001b[0;34m(\u001b[0m\u001b[0;34m)\u001b[0m\u001b[0;34m\u001b[0m\u001b[0m\n\u001b[0m\u001b[1;32m      2\u001b[0m \u001b[0;32mwith\u001b[0m \u001b[0mtorch\u001b[0m\u001b[0;34m.\u001b[0m\u001b[0mno_grad\u001b[0m\u001b[0;34m(\u001b[0m\u001b[0;34m)\u001b[0m\u001b[0;34m:\u001b[0m\u001b[0;34m\u001b[0m\u001b[0m\n\u001b[1;32m      3\u001b[0m     \u001b[0mbatch\u001b[0m\u001b[0;34m,\u001b[0m \u001b[0mlabels\u001b[0m \u001b[0;34m=\u001b[0m \u001b[0miter\u001b[0m\u001b[0;34m(\u001b[0m\u001b[0mconcat_val_dl\u001b[0m\u001b[0;34m)\u001b[0m\u001b[0;34m.\u001b[0m\u001b[0mnext\u001b[0m\u001b[0;34m(\u001b[0m\u001b[0;34m)\u001b[0m\u001b[0;34m\u001b[0m\u001b[0m\n\u001b[1;32m      4\u001b[0m \u001b[0;34m\u001b[0m\u001b[0m\n\u001b[1;32m      5\u001b[0m     \u001b[0mbatch\u001b[0m \u001b[0;34m=\u001b[0m \u001b[0mbatch\u001b[0m\u001b[0;34m.\u001b[0m\u001b[0mto\u001b[0m\u001b[0;34m(\u001b[0m\u001b[0mdevice\u001b[0m\u001b[0;34m)\u001b[0m\u001b[0;34m\u001b[0m\u001b[0m\n",
      "\u001b[0;31mNameError\u001b[0m: name 'model' is not defined"
     ]
    }
   ],
   "source": [
    "model.eval()\n",
    "with torch.no_grad():\n",
    "    batch, labels = iter(concat_val_dl).next()\n",
    "    \n",
    "    batch = batch.to(device)\n",
    "    labels[0] = labels[0].to(device)\n",
    "    labels[1] = labels[1].to(device)\n",
    "    \n",
    "    preds = model(batch)\n",
    "    \n",
    "    pred_bboxes, pred_class_scores = preds[:,:4], preds[:, 4:]\n",
    "    pred_bboxes = torch.sigmoid(pred_bboxes)*sz\n",
    "    pred_cat_ids = pred_class_scores.argmax(dim=1)\n",
    "    \n",
    "    actual_bboxes, actual_cat_ids = labels"
   ]
  },
  {
   "cell_type": "code",
   "execution_count": null,
   "metadata": {},
   "outputs": [],
   "source": [
    "fig, axes = plt.subplots(16, 4, figsize=(12*10, 8*10))\n",
    "for i,ax in enumerate(axes.flat):\n",
    "    im = batch[i].cpu().numpy().transpose((1,2,0)) \n",
    "    ax.imshow(im)\n",
    "    ax.get_xaxis().set_visible(False)\n",
    "    ax.get_yaxis().set_visible(False)\n",
    "    \n",
    "    actual_bbox = yxyx_to_xywh(actual_bboxes[i])\n",
    "    rect_patch = patches.Rectangle((actual_bbox[0], actual_bbox[1]), actual_bbox[2], actual_bbox[3],fill=False, lw=2, ec='white') \n",
    "    ax.add_patch(rect_patch)\n",
    "    \n",
    "    pred_bbox = yxyx_to_xywh(pred_bboxes[i])\n",
    "    pred_bbox = [int(x) for x in pred_bbox]\n",
    "    pred_rect_patch = patches.Rectangle((pred_bbox[0], pred_bbox[1]), pred_bbox[2], pred_bbox[3],fill=False, lw=2, ec='yellow') \n",
    "    ax.add_patch(pred_rect_patch)\n",
    "    \n",
    "    pred_cat_label = concat_train_ds.get_category_label(pred_cat_ids[i].item())   \n",
    "    actual_cat_label = concat_train_ds.get_category_label(actual_cat_ids[i].item())   \n",
    "    ax.text(0, 0, 'Pred: '+pred_cat_label, size='x-large', weight='bold', color='white', va='top')\n",
    "    ax.text(0, 30, 'Actual: '+actual_cat_label, size='x-large', weight='bold', color='white', va='top')\n",
    "    \n",
    "plt.tight_layout()"
   ]
  }
 ],
 "metadata": {
  "kernelspec": {
   "display_name": "Python 3",
   "language": "python",
   "name": "python3"
  },
  "language_info": {
   "codemirror_mode": {
    "name": "ipython",
    "version": 3
   },
   "file_extension": ".py",
   "mimetype": "text/x-python",
   "name": "python",
   "nbconvert_exporter": "python",
   "pygments_lexer": "ipython3",
   "version": "3.6.6"
  }
 },
 "nbformat": 4,
 "nbformat_minor": 2
}
